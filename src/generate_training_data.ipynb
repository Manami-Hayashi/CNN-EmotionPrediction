{
 "cells": [
  {
   "metadata": {},
   "cell_type": "markdown",
   "source": [
    "# Generate Training Data\n",
    "\n",
    "This notebook contains the code to generate PNG image files from the combined `fer2013.csv` and `fer2013new.csv` files. The generated files are stored in their corresponding folder for the trainer to use.\n",
    "\n",
    "## Imports"
   ],
   "id": "4aeff44107ecc9e1"
  },
  {
   "metadata": {},
   "cell_type": "code",
   "outputs": [],
   "execution_count": null,
   "source": [
    "import os\n",
    "import csv\n",
    "import argparse\n",
    "import numpy as np\n",
    "from itertools import islice\n",
    "from PIL import Image\n",
    "\n",
    "# List of folders for training, validation and test.\n",
    "folder_names = {'Training'   : 'FER2013Train',\n",
    "                'PublicTest' : 'FER2013Valid',\n",
    "                'PrivateTest': 'FER2013Test'}"
   ],
   "id": "ba0b249a40cce819"
  },
  {
   "metadata": {},
   "cell_type": "markdown",
   "source": "## Helper Functions",
   "id": "f14e76b5a6f8aede"
  },
  {
   "metadata": {},
   "cell_type": "code",
   "outputs": [],
   "execution_count": null,
   "source": [
    "def str_to_image(image_blob):\n",
    "    ''' Convert a string blob to an image object. '''\n",
    "    image_string = image_blob.split(' ')\n",
    "    image_data = np.asarray(image_string, dtype=np.uint8).reshape(48,48)\n",
    "    return Image.fromarray(image_data)"
   ],
   "id": "c4052514f8de22e3"
  },
  {
   "metadata": {},
   "cell_type": "markdown",
   "source": "## Main Function",
   "id": "dec535a0d2e7048e"
  },
  {
   "metadata": {},
   "cell_type": "code",
   "outputs": [],
   "execution_count": null,
   "source": [
    "def main(base_folder, fer_path, ferplus_path):\n",
    "    '''\n",
    "    Generate PNG image files from the combined fer2013.csv and fer2013new.csv file. The generated files\n",
    "    are stored in their corresponding folder for the trainer to use.\n",
    "\n",
    "    Args:\n",
    "        base_folder(str): The base folder that contains  'FER2013Train', 'FER2013Valid' and 'FER2013Test'\n",
    "                          subfolder.\n",
    "        fer_path(str): The full path of fer2013.csv file.\n",
    "        ferplus_path(str): The full path of fer2013new.csv file.\n",
    "    '''\n",
    "\n",
    "    print(\"Start generating ferplus images.\")\n",
    "\n",
    "    for key, value in folder_names.items():\n",
    "        folder_path = os.path.join(base_folder, value)\n",
    "        if not os.path.exists(folder_path):\n",
    "            os.makedirs(folder_path)\n",
    "\n",
    "    ferplus_entries = []\n",
    "    with open(ferplus_path,'r') as csvfile:\n",
    "        ferplus_rows = csv.reader(csvfile, delimiter=',')\n",
    "        for row in islice(ferplus_rows, 1, None):\n",
    "            ferplus_entries.append(row)\n",
    "\n",
    "    index = 0\n",
    "    with open(fer_path,'r') as csvfile:\n",
    "        fer_rows = csv.reader(csvfile, delimiter=',')\n",
    "        for row in islice(fer_rows, 1, None):\n",
    "            ferplus_row = ferplus_entries[index]\n",
    "            file_name = ferplus_row[1].strip()\n",
    "            if len(file_name) > 0:\n",
    "                image = str_to_image(row[1])\n",
    "                image_path = os.path.join(base_folder, folder_names[row[2]], file_name)\n",
    "                image.save(image_path, compress_level=0)\n",
    "            index += 1\n",
    "\n",
    "    print(\"Done...\")"
   ],
   "id": "5321fc97ff82bd03"
  },
  {
   "metadata": {},
   "cell_type": "markdown",
   "source": "## Running the Script",
   "id": "508b47278539dc5e"
  },
  {
   "metadata": {},
   "cell_type": "code",
   "outputs": [],
   "execution_count": null,
   "source": [
    "if __name__ == \"__main__\":\n",
    "    parser = argparse.ArgumentParser()\n",
    "    parser.add_argument(\"-d\",\n",
    "                        \"--base_folder\",\n",
    "                        type = str,\n",
    "                        help = \"Base folder containing the training, validation and testing folder.\",\n",
    "                        required = True)\n",
    "    parser.add_argument(\"-fer\",\n",
    "                        \"--fer_path\",\n",
    "                        type = str,\n",
    "                        help = \"Path to the original fer2013.csv file.\",\n",
    "                        required = True)\n",
    "\n",
    "    parser.add_argument(\"-ferplus\",\n",
    "                        \"--ferplus_path\",\n",
    "                        type = str,\n",
    "                        help = \"Path to the new fer2013new.csv file.\",\n",
    "                        required = True)\n",
    "\n",
    "    args = parser.parse_args()\n",
    "    main(args.base_folder, args.fer_path, args.ferplus_path)"
   ],
   "id": "9f574396afb703c2"
  }
 ],
 "metadata": {},
 "nbformat": 5,
 "nbformat_minor": 9
}
